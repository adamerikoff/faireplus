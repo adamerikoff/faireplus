{
 "cells": [
  {
   "cell_type": "code",
   "execution_count": 130,
   "id": "17e41429",
   "metadata": {},
   "outputs": [],
   "source": [
    "import pandas as pd\n",
    "import numpy as np\n",
    "import matplotlib.pyplot as plt\n",
    "import seaborn as sns"
   ]
  },
  {
   "cell_type": "code",
   "execution_count": 131,
   "id": "3153e356",
   "metadata": {},
   "outputs": [
    {
     "name": "stdout",
     "output_type": "stream",
     "text": [
      "Unique Toponym Tokens (stripped, lowercased, with <S>/<E>):\n",
      "['<S>', 'f', 'r', 'a', 'n', 'c', 'e', '<E>']\n",
      "\n",
      "DataFrame Head (with 'toponym_tokens' column):\n",
      "                 toponym                                     toponym_tokens\n",
      "0                 france                       [<S>, f, r, a, n, c, e, <E>]\n",
      "1  france métropolitaine  [<S>, f, r, a, n, c, e,  , m, é, t, r, o, p, o...\n",
      "2     france d'outre-mer  [<S>, f, r, a, n, c, e,  , d, ', o, u, t, r, e...\n",
      "3  france métropolitaine  [<S>, f, r, a, n, c, e,  , m, é, t, r, o, p, o...\n",
      "4       pays de la loire  [<S>, p, a, y, s,  , d, e,  , l, a,  , l, o, i...\n"
     ]
    }
   ],
   "source": [
    "# Load the DataFrame\n",
    "df = pd.read_csv(\"./data.csv\")\n",
    "\n",
    "# 1. Clean the 'toponym' column: convert to string, strip whitespace, convert to lowercase\n",
    "df['toponym'] = df['toponym'].astype(str).str.strip().str.lower()\n",
    "\n",
    "# 2. Convert each toponym string into a list of tokens, adding <S> and <E>\n",
    "#    Each character will be a separate token\n",
    "#    We create a new column 'toponym_tokens' to store these lists\n",
    "df['toponym_tokens'] = df['toponym'].apply(lambda x: ['<S>'] + list(x) + ['<E>'])\n",
    "\n",
    "# Get the unique toponym token lists (as a list of lists)\n",
    "# Note: df.unique() on a column of lists won't work directly because lists are unhashable.\n",
    "# We convert lists to tuples temporarily to make them hashable for unique(), then back to lists.\n",
    "unique_toponym_token_tuples = df['toponym_tokens'].apply(tuple).unique()\n",
    "\n",
    "# Convert back to list of lists for display if desired\n",
    "unique_toponym_token_lists = [list(t) for t in unique_toponym_token_tuples]\n",
    "\n",
    "\n",
    "# Print the list of unique toponym token lists\n",
    "print(\"Unique Toponym Tokens (stripped, lowercased, with <S>/<E>):\")\n",
    "for tokens_list in unique_toponym_token_lists:\n",
    "    print(tokens_list)\n",
    "    break\n",
    "\n",
    "# Display the head of the modified DataFrame to show the new 'toponym_tokens' column\n",
    "print(\"\\nDataFrame Head (with 'toponym_tokens' column):\")\n",
    "print(df.head())"
   ]
  },
  {
   "cell_type": "code",
   "execution_count": 132,
   "id": "04d4429c",
   "metadata": {},
   "outputs": [
    {
     "name": "stdout",
     "output_type": "stream",
     "text": [
      "\n",
      "All unique characters and special tokens used:\n",
      "[' ', \"'\", '-', '<E>', '<S>', 'a', 'b', 'c', 'd', 'e', 'f', 'g', 'h', 'i', 'j', 'k', 'l', 'm', 'n', 'o', 'p', 'q', 'r', 's', 't', 'u', 'v', 'w', 'x', 'y', 'z', 'à', 'â', 'ç', 'è', 'é', 'ê', 'ë', 'î', 'ï', 'ô', 'û', 'ü', 'œ']\n",
      "44\n"
     ]
    }
   ],
   "source": [
    "# Now, let's find all unique characters and special tokens used across all tokenized toponyms\n",
    "unique_characters_and_tokens = set()\n",
    "\n",
    "# Iterate through each unique toponym token list\n",
    "for tokens_list in unique_toponym_token_lists:\n",
    "    for token in tokens_list: # Each 'token' here will be a single character or '<S>'/'<E>'\n",
    "        unique_characters_and_tokens.add(token)\n",
    "\n",
    "# Convert the set to a sorted list for consistent output\n",
    "sorted_unique_characters_and_tokens = sorted(list(unique_characters_and_tokens))\n",
    "\n",
    "print(\"\\nAll unique characters and special tokens used:\")\n",
    "print(sorted_unique_characters_and_tokens)\n",
    "print(len(sorted_unique_characters_and_tokens))"
   ]
  },
  {
   "cell_type": "code",
   "execution_count": 133,
   "id": "6b91d3d8",
   "metadata": {},
   "outputs": [
    {
     "name": "stdout",
     "output_type": "stream",
     "text": [
      "\n",
      "--- Token Mappings ---\n",
      "Total unique tokens/characters: 44\n",
      "token2int (first 5 items): [(' ', 0), (\"'\", 1), ('-', 2), ('<E>', 3), ('<S>', 4)]\n",
      "int2token (first 5 items): [(0, ' '), (1, \"'\"), (2, '-'), (3, '<E>'), (4, '<S>')]\n"
     ]
    }
   ],
   "source": [
    "# Create the token-to-integer (token2int) and integer-to-token (int2token) dictionaries.\n",
    "token2int = {token: i for i, token in enumerate(sorted_unique_characters_and_tokens)}\n",
    "int2token = {i: token for i, token in enumerate(sorted_unique_characters_and_tokens)}\n",
    "\n",
    "print(\"\\n--- Token Mappings ---\")\n",
    "print(f\"Total unique tokens/characters: {len(token2int)}\")\n",
    "print(\"token2int (first 5 items):\", list(token2int.items())[:5])\n",
    "print(\"int2token (first 5 items):\", list(int2token.items())[:5])"
   ]
  },
  {
   "cell_type": "code",
   "execution_count": 134,
   "id": "de65827a",
   "metadata": {},
   "outputs": [
    {
     "name": "stdout",
     "output_type": "stream",
     "text": [
      "\n",
      "--- Bigram Count Matrix 'N' ---\n",
      "Matrix 'N' initialized with shape: (44, 44)\n",
      "N (top-left 5x5 corner, showing initial ones for smoothing):\n",
      "[[1 1 1 1 1]\n",
      " [1 1 1 1 1]\n",
      " [1 1 1 1 1]\n",
      " [1 1 1 1 1]\n",
      " [1 1 1 1 1]]\n"
     ]
    }
   ],
   "source": [
    "# The size of our vocabulary (all unique tokens).\n",
    "vocab_size = len(sorted_unique_characters_and_tokens)\n",
    "\n",
    "# Initialize the N matrix. Its dimensions are (vocab_size x vocab_size).\n",
    "# Each cell N[i, j] will store the count of how many times the token corresponding\n",
    "# to integer 'i' is followed by the token corresponding to integer 'j'.\n",
    "# We initialize with ones (Laplace smoothing) to avoid zero probabilities for unseen bigrams.\n",
    "N = np.ones((vocab_size, vocab_size), dtype=int)\n",
    "\n",
    "print(f\"\\n--- Bigram Count Matrix 'N' ---\")\n",
    "print(f\"Matrix 'N' initialized with shape: {N.shape}\")\n",
    "print(\"N (top-left 5x5 corner, showing initial ones for smoothing):\")\n",
    "print(N[:5, :5])"
   ]
  },
  {
   "cell_type": "code",
   "execution_count": 135,
   "id": "6f8950fd",
   "metadata": {},
   "outputs": [
    {
     "name": "stdout",
     "output_type": "stream",
     "text": [
      "--- Bigram Count Matrix 'N' Populated ---\n",
      "Matrix 'N' after counting bigrams (shape: (44, 44)):\n",
      "[[  1   1   1   1   1  12  35  62 121   4]\n",
      " [  1   1   1   1   1  62   1   1   1   9]\n",
      " [  1   1   1   1   1 110 153 126 274 144]\n",
      " [  1   1   1   1   1   1   1   1   1   1]\n",
      " [  1   1   1   1   1 197 304 387 175  34]\n",
      " [153   1  60  41   1   5  38 134  34   3]\n",
      " [  1   1   1   1   1 155   6   1   2 170]\n",
      " [  2   1  21 112   1 157   1   8   1  96]\n",
      " [  3  68  17  53   1  58   1   3   1 347]\n",
      " [168   1 498 898   1 156  14  42  12   5]]\n"
     ]
    }
   ],
   "source": [
    "# Iterate over each list of tokens (representing a unique toponym)\n",
    "for tokens in unique_toponym_token_lists:\n",
    "    # Iterate over pairs of adjacent tokens in the current list\n",
    "    # 'tokens[:-1]' gets all tokens except the last one (the first token of the pair)\n",
    "    # 'tokens[1:]' gets all tokens except the first one (the second token of the pair)\n",
    "    for token1, token2 in zip(tokens[:-1], tokens[1:]):\n",
    "        # Get the integer IDs for the current pair of tokens\n",
    "        ix1 = token2int[token1]\n",
    "        ix2 = token2int[token2]\n",
    "\n",
    "        # Increment the count in the N matrix for this bigram\n",
    "        N[ix1, ix2] += 1\n",
    "\n",
    "print(\"--- Bigram Count Matrix 'N' Populated ---\")\n",
    "print(f\"Matrix 'N' after counting bigrams (shape: {N.shape}):\")\n",
    "print(N[:10, :10])\n"
   ]
  },
  {
   "cell_type": "code",
   "execution_count": 136,
   "id": "5403d506",
   "metadata": {},
   "outputs": [
    {
     "data": {
      "image/png": "[encoded data removed]",
      "text/plain": [
       "<Figure size 1200x800 with 2 Axes>"
      ]
     },
     "metadata": {},
     "output_type": "display_data"
    }
   ],
   "source": [
    "plt.figure(figsize=(12, 8)) # Set the size of the plot for better readability\n",
    "sns.heatmap(N,\n",
    "            cmap='viridis', # Color map: 'Blues' for light to dark blue, 'viridis' or 'magma' are also good\n",
    "            linewidths=.5, # Adds lines between cells\n",
    "            vmin=1,        # Often good to start from 1 if N was initialized with ones\n",
    "            vmax=np.percentile(N.flatten(), 90), # Use the calculated (or manually set) vmax\n",
    "            linecolor='black', # Color of the lines\n",
    "            xticklabels=[int2token[i] for i in range(vocab_size)], # X-axis labels (columns)\n",
    "            yticklabels=[int2token[i] for i in range(vocab_size)]  # Y-axis labels (rows)\n",
    "           )\n",
    "plt.title('Bigram Frequency Heatmap') # Title of the plot\n",
    "plt.xlabel('Second Token (col_index)') # Label for the X-axis\n",
    "plt.ylabel('First Token (row_index)') # Label for the Y-axis\n",
    "plt.show() # Display the plot"
   ]
  },
  {
   "cell_type": "code",
   "execution_count": 137,
   "id": "f8451670",
   "metadata": {},
   "outputs": [
    {
     "name": "stdout",
     "output_type": "stream",
     "text": [
      "\n",
      "--- Bigram Probability Matrix 'P' ---\n",
      "Matrix 'P' after calculating probabilities (shape: (44, 44)):\n",
      "[[0.00180832 0.00180832 0.00180832 0.00180832 0.00180832]\n",
      " [0.00591716 0.00591716 0.00591716 0.00591716 0.00591716]\n",
      " [0.0004207  0.0004207  0.0004207  0.0004207  0.0004207 ]\n",
      " [0.02272727 0.02272727 0.02272727 0.02272727 0.02272727]\n",
      " [0.00028377 0.00028377 0.00028377 0.00028377 0.00028377]]\n",
      "\n",
      "First 5 row sums of probability matrix P (should be close to 1.0):\n",
      "[1. 1. 1. 1. 1.]\n"
     ]
    }
   ],
   "source": [
    "# Convert the matrix to float type first, as probabilities will be decimal numbers\n",
    "P = N.astype(float)\n",
    "\n",
    "# Calculate the sum of each row (axis=1) and keep dimensions for proper broadcasting\n",
    "row_sums = P.sum(axis=1, keepdims=True)\n",
    "\n",
    "# Divide each element in P by its corresponding row sum\n",
    "P = P / row_sums\n",
    "\n",
    "print(\"\\n--- Bigram Probability Matrix 'P' ---\")\n",
    "print(f\"Matrix 'P' after calculating probabilities (shape: {P.shape}):\")\n",
    "print(P[:5, :5]) # Print top-left 5x5 corner of the probability matrix\n",
    "\n",
    "# Verify that rows sum to 1 (or very close, due to floating point precision)\n",
    "print(\"\\nFirst 5 row sums of probability matrix P (should be close to 1.0):\")\n",
    "print(P.sum(axis=1)[:5])"
   ]
  },
  {
   "cell_type": "code",
   "execution_count": 138,
   "id": "bdf573a0",
   "metadata": {},
   "outputs": [
    {
     "data": {
      "image/png": "[encoded data removed]",
      "text/plain": [
       "<Figure size 1200x800 with 2 Axes>"
      ]
     },
     "metadata": {},
     "output_type": "display_data"
    }
   ],
   "source": [
    "plt.figure(figsize=(12, 8)) # Set the size of the plot for better readability\n",
    "sns.heatmap(P,\n",
    "            cmap='plasma', # Color map: 'Blues' for light to dark blue, 'viridis' or 'magma' are also good\n",
    "            linewidths=.5, # Adds lines between cells\n",
    "            linecolor='black', # Color of the lines\n",
    "            xticklabels=[int2token[i] for i in range(vocab_size)], # X-axis labels (columns)\n",
    "            yticklabels=[int2token[i] for i in range(vocab_size)]  # Y-axis labels (rows)\n",
    "           )\n",
    "plt.title('Bigram Probabilities Heatmap') # Title of the plot\n",
    "plt.xlabel('Second Token (col_index)') # Label for the X-axis\n",
    "plt.ylabel('First Token (row_index)') # Label for the Y-axis\n",
    "plt.show() # Display the plot"
   ]
  },
  {
   "cell_type": "code",
   "execution_count": 139,
   "id": "403be6fe",
   "metadata": {},
   "outputs": [
    {
     "name": "stdout",
     "output_type": "stream",
     "text": [
      "\n",
      "--- Generated Sequences ---\n",
      "hievioièran\n",
      "sa ffoceure-baulle-as\n",
      "s\n",
      "drecotesonogarse-rn\n",
      "gr-mazparçausenese\n"
     ]
    }
   ],
   "source": [
    "# Set the random seed for reproducibility (NumPy equivalent of torch.Generator().manual_seed)\n",
    "np.random.seed(2147483647) # Using the same seed as your torch example\n",
    "\n",
    "# Get the integer IDs for our special tokens\n",
    "# Note: '<E>' will typically have index 0 if sorted alphabetically, '<S>' will have index 1 (or higher)\n",
    "start_token_idx = token2int['<S>']\n",
    "end_token_idx = token2int['<E>']\n",
    "\n",
    "print(\"\\n--- Generated Sequences ---\")\n",
    "for i in range(5): # Generate 5 sequences as in your example\n",
    "    out = []\n",
    "    ix = start_token_idx # Start with the index of the '<S>' token\n",
    "\n",
    "    while True:\n",
    "        # Get the probability distribution for the current token 'ix'\n",
    "        p_distribution = P[ix]\n",
    "\n",
    "        # Sample the next token's index based on the probabilities\n",
    "        # np.random.choice(a, size=1, p=probabilities)\n",
    "        # a: The range of possible indices (0 to vocab_size-1)\n",
    "        # size: How many samples to draw (we want 1)\n",
    "        # p: The probabilities for each choice\n",
    "        next_ix = np.random.choice(vocab_size, size=1, p=p_distribution).item() # .item() extracts the scalar from the array\n",
    "\n",
    "        # If the sampled token is the end token, break the loop\n",
    "        if next_ix == end_token_idx:\n",
    "            break\n",
    "\n",
    "        # Append the actual character/token (using int2token) to our output list\n",
    "        out.append(int2token[next_ix])\n",
    "\n",
    "        # Set the current index to the newly sampled index for the next iteration\n",
    "        ix = next_ix\n",
    "\n",
    "    # Join the generated characters to form a string and print\n",
    "    print(''.join(out))"
   ]
  },
  {
   "cell_type": "code",
   "execution_count": 140,
   "id": "89152ad5",
   "metadata": {},
   "outputs": [
    {
     "name": "stdout",
     "output_type": "stream",
     "text": [
      "log_ll=np.float64(-106441.43233610045)\n",
      "nll=np.float64(106441.43233610045)\n",
      "2.424468312782736\n"
     ]
    }
   ],
   "source": [
    "log_ll = 0.0\n",
    "n = 0\n",
    "\n",
    "# Iterate over each list of tokens (representing a unique toponym)\n",
    "for tokens in unique_toponym_token_lists:\n",
    "    # Iterate over pairs of adjacent tokens in the current list\n",
    "    # 'tokens[:-1]' gets all tokens except the last one (the first token of the pair)\n",
    "    # 'tokens[1:]' gets all tokens except the first one (the second token of the pair)\n",
    "    for token1, token2 in zip(tokens[:-1], tokens[1:]):\n",
    "        # Get the integer IDs for the current pair of tokens\n",
    "        ix1 = token2int[token1]\n",
    "        ix2 = token2int[token2]\n",
    "\n",
    "        prob = P[ix1, ix2] # Look up the probability of ch2 following ch1 from your P matrix\n",
    "        logprob = np.log(prob) # Calculate the logarithm of this probability\n",
    "        log_ll += logprob # Sum up all log probabilities\n",
    "\n",
    "        n += 1 # Count the total number of bigrams processed\n",
    "\n",
    "\n",
    "print(f'{log_ll=}')\n",
    "nll = -log_ll # Calculate Negative Log-Likelihood (NLL)\n",
    "print(f'{nll=}')\n",
    "print(f'{nll/n}') # Calculate Average Negative Log-Likelihood\n"
   ]
  },
  {
   "cell_type": "code",
   "execution_count": 141,
   "id": "2063b5ca",
   "metadata": {},
   "outputs": [
    {
     "name": "stdout",
     "output_type": "stream",
     "text": [
      "\n",
      "--- Neural Network Training Data Setup ---\n",
      "Number of bigram examples: 43903\n",
      "Example input indices (xs[:5]): [ 4 10 22  5 18]\n",
      "Example target indices (ys[:5]): [10 22  5 18  7]\n",
      "\n",
      "One-hot encoded inputs (xenc.shape): (43903, 44)\n",
      "Example of one-hot encoding (first row):\n",
      "[0. 0. 0. 0. 1. 0. 0. 0. 0. 0. 0. 0. 0. 0. 0. 0. 0. 0. 0. 0. 0. 0. 0. 0.\n",
      " 0. 0. 0. 0. 0. 0. 0. 0. 0. 0. 0. 0. 0. 0. 0. 0. 0. 0. 0. 0.]\n"
     ]
    }
   ],
   "source": [
    "X, Y = [], []\n",
    "for tokens in unique_toponym_token_lists:\n",
    "    # Iterate over pairs of adjacent tokens (bigrams)\n",
    "    for ch1, ch2 in zip(tokens[:-1], tokens[1:]):\n",
    "        # Get the integer indices for the current bigram\n",
    "        ix1 = token2int[ch1]\n",
    "        ix2 = token2int[ch2]\n",
    "        X.append(ix1) # Add the first character's index to inputs\n",
    "        Y.append(ix2) # Add the second character's index to targets\n",
    "\n",
    "# Convert lists to NumPy arrays\n",
    "X = np.array(X)\n",
    "Y = np.array(Y)\n",
    "\n",
    "num_examples = X.size # Total number of bigram examples in our dataset\n",
    "print(f\"\\n--- Neural Network Training Data Setup ---\")\n",
    "print(f\"Number of bigram examples: {num_examples}\")\n",
    "print(f\"Example input indices (xs[:5]): {X[:5]}\")\n",
    "print(f\"Example target indices (ys[:5]): {Y[:5]}\")\n",
    "\n",
    "# One-hot encode the input characters (xs)\n",
    "# This converts each integer index into a vector of 0s and a single 1.\n",
    "# The '1' is at the position corresponding to the character's index.\n",
    "xenc = np.zeros((num_examples, vocab_size)) # Initialize a matrix of zeros\n",
    "for i, ix in enumerate(X):\n",
    "    xenc[i, ix] = 1.0 # Set the appropriate position to 1.0\n",
    "\n",
    "print(f\"\\nOne-hot encoded inputs (xenc.shape): {xenc.shape}\")\n",
    "print(\"Example of one-hot encoding (first row):\")\n",
    "print(xenc[0, :]) # Shows the one-hot encoding for the first input character"
   ]
  },
  {
   "cell_type": "code",
   "execution_count": 142,
   "id": "1c150d7e",
   "metadata": {},
   "outputs": [
    {
     "name": "stdout",
     "output_type": "stream",
     "text": [
      "\n",
      "--- Simple Neural Network Setup ---\n",
      "Initial 'Weight' Matrix W (shape: (44, 44)):\n",
      "[[0.2708541  0.93389945 0.43941767 0.64447737 0.49724201]\n",
      " [0.13877742 0.23388398 0.94063547 0.02304841 0.66471749]\n",
      " [0.61984818 0.53487395 0.59330382 0.79357598 0.59732323]\n",
      " [0.988035   0.65412574 0.80652753 0.58799818 0.00539915]\n",
      " [0.5521667  0.51823349 0.96534974 0.64553891 0.05829891]]\n",
      "\n",
      "Calculated Logits (shape: (43903, 44)):\n",
      "[[0.5521667  0.51823349 0.96534974 0.64553891 0.05829891]\n",
      " [0.34907077 0.91891634 0.26184254 0.26361617 0.15630584]\n",
      " [0.32535051 0.59934736 0.39627999 0.19616441 0.94929165]\n",
      " [0.40541968 0.05648391 0.76309273 0.1310019  0.21122658]\n",
      " [0.39909808 0.57550875 0.13406015 0.19706231 0.65089807]]\n",
      "\n",
      "Calculated Probabilities (probs.shape): (43903, 44)\n",
      "[[0.02224224 0.02150015 0.03362186 0.0244191  0.01357358]\n",
      " [0.01912432 0.03381169 0.01752683 0.01755794 0.01577137]\n",
      " [0.0193186  0.02540803 0.02073863 0.01697739 0.0360537 ]\n",
      " [0.02035507 0.01435925 0.02910772 0.01547015 0.01676238]\n",
      " [0.02071571 0.02471235 0.01589262 0.0169261  0.02664743]]\n",
      "First 5 row sums of probabilities (should be close to 1.0):\n",
      "[1. 1. 1. 1. 1.]\n"
     ]
    }
   ],
   "source": [
    "# Randomly initialize the 'weights' of our neural network.\n",
    "# This 'W' matrix will be the learnable parameter of our model,\n",
    "# analogous to bigram count matrix N, but it will be adjusted.\n",
    "# Its dimensions are (vocab_size, vocab_size) because for each of the\n",
    "# 'vocab_size' possible input characters, we want to predict 'vocab_size'\n",
    "# scores for the next character.\n",
    "g_nn = np.random.default_rng(2147483647) # NumPy random generator for reproducibility\n",
    "W = g_nn.random((vocab_size, vocab_size)) # Initialize W with random values\n",
    "\n",
    "print(f\"\\n--- Simple Neural Network Setup ---\")\n",
    "print(f\"Initial 'Weight' Matrix W (shape: {W.shape}):\")\n",
    "print(W[:5, :5]) # Display a small portion\n",
    "\n",
    "# Forward pass: Calculate 'logits'\n",
    "# This is the core operation: input (xenc) multiplied by weights (W).\n",
    "# It produces raw, unnormalized scores for each possible next character.\n",
    "logits = xenc @ W # Matrix multiplication: (num_examples, vocab_size) @ (vocab_size, vocab_size) -> (num_examples, vocab_size)\n",
    "\n",
    "print(f\"\\nCalculated Logits (shape: {logits.shape}):\")\n",
    "print(logits[:5, :5]) # Display a small portion\n",
    "\n",
    "# Apply the Softmax function to convert logits into probabilities\n",
    "# 1. Exponentiate logits to get 'counts' (ensure positivity)\n",
    "counts = np.exp(logits)\n",
    "\n",
    "# 2. Normalize by summing across rows to get probabilities that sum to 1\n",
    "probs = counts / counts.sum(axis=1, keepdims=True)\n",
    "\n",
    "print(f\"\\nCalculated Probabilities (probs.shape): {probs.shape}\")\n",
    "print(probs[:5, :5]) # Display a small portion\n",
    "print(\"First 5 row sums of probabilities (should be close to 1.0):\")\n",
    "print(probs.sum(axis=1)[:5])"
   ]
  },
  {
   "cell_type": "code",
   "execution_count": 143,
   "id": "17fc2390",
   "metadata": {},
   "outputs": [
    {
     "name": "stdout",
     "output_type": "stream",
     "text": [
      "\n",
      "--- Loss Calculation ---\n",
      "Average Negative Log-Likelihood (Loss) with current W: 3.8240\n"
     ]
    }
   ],
   "source": [
    "# Calculate the Negative Log-Likelihood (Loss)\n",
    "# This measures how well our current 'W' matrix predicts the actual next characters (ys).\n",
    "\n",
    "# 1. Get the probabilities that the network assigned to the *correct* next characters.\n",
    "#    This selects probs[example_idx, target_char_idx] for each example.\n",
    "correct_char_probs = probs[np.arange(num_examples), Y]\n",
    "\n",
    "# 2. Calculate the log of these probabilities.\n",
    "#    We use np.log to get the log-likelihood for each correct prediction.\n",
    "log_likelihood_per_example = np.log(correct_char_probs)\n",
    "\n",
    "# 3. Calculate the average negative log-likelihood.\n",
    "#    This is our loss: we want to minimize this value during training.\n",
    "loss = -log_likelihood_per_example.mean()\n",
    "\n",
    "print(f\"\\n--- Loss Calculation ---\")\n",
    "print(f\"Average Negative Log-Likelihood (Loss) with current W: {loss:.4f}\")"
   ]
  },
  {
   "cell_type": "code",
   "execution_count": 144,
   "id": "d118ab7a",
   "metadata": {},
   "outputs": [
    {
     "name": "stdout",
     "output_type": "stream",
     "text": [
      "\n",
      "Initial 'Weight' Matrix W (shape: (44, 44)):\n",
      "[[0.2708541  0.93389945 0.43941767 0.64447737 0.49724201]\n",
      " [0.13877742 0.23388398 0.94063547 0.02304841 0.66471749]\n",
      " [0.61984818 0.53487395 0.59330382 0.79357598 0.59732323]\n",
      " [0.988035   0.65412574 0.80652753 0.58799818 0.00539915]\n",
      " [0.5521667  0.51823349 0.96534974 0.64553891 0.05829891]]\n"
     ]
    }
   ],
   "source": [
    "# --- Initialize Neural Network Weights (W) ---\n",
    "# Use a reproducible random generator for weights\n",
    "rng = np.random.default_rng(2147483647)\n",
    "W = rng.random((vocab_size, vocab_size)) # Initialize W with random values\n",
    "\n",
    "print(f\"\\nInitial 'Weight' Matrix W (shape: {W.shape}):\")\n",
    "print(W[:5, :5])\n",
    "\n",
    "# --- Training Loop (Gradient Descent in NumPy) ---\n",
    "learning_rate = 0.01 # This learning rate might need tuning for your data\n",
    "num_epochs = 10_000    # Number of training iterations\n"
   ]
  },
  {
   "cell_type": "code",
   "execution_count": 145,
   "id": "8968f4ee",
   "metadata": {},
   "outputs": [
    {
     "name": "stdout",
     "output_type": "stream",
     "text": [
      "\n",
      "--- Starting Training Loop (10000 epochs) ---\n",
      "Epoch 0/9999, Loss: 3.8274\n",
      "Epoch 100/9999, Loss: 5.6661\n",
      "Epoch 200/9999, Loss: 4.3670\n",
      "Epoch 300/9999, Loss: 5.5752\n",
      "Epoch 400/9999, Loss: 4.7821\n",
      "Epoch 500/9999, Loss: 5.6062\n",
      "Epoch 600/9999, Loss: 5.0159\n",
      "Epoch 700/9999, Loss: 3.8666\n",
      "Epoch 800/9999, Loss: 5.3192\n",
      "Epoch 900/9999, Loss: 5.5474\n",
      "Epoch 1000/9999, Loss: 5.2769\n",
      "Epoch 1100/9999, Loss: 5.4937\n",
      "Epoch 1200/9999, Loss: 5.1385\n",
      "Epoch 1300/9999, Loss: 6.1013\n",
      "Epoch 1400/9999, Loss: 4.5810\n",
      "Epoch 1500/9999, Loss: 4.9477\n",
      "Epoch 1600/9999, Loss: 4.7510\n",
      "Epoch 1700/9999, Loss: 5.1451\n",
      "Epoch 1800/9999, Loss: 5.0538\n",
      "Epoch 1900/9999, Loss: 5.4214\n",
      "Epoch 2000/9999, Loss: 4.6812\n",
      "Epoch 2100/9999, Loss: 4.8693\n",
      "Epoch 2200/9999, Loss: 4.6826\n",
      "Epoch 2300/9999, Loss: 5.2765\n",
      "Epoch 2400/9999, Loss: 5.4612\n",
      "Epoch 2500/9999, Loss: 4.9055\n",
      "Epoch 2600/9999, Loss: 4.8386\n",
      "Epoch 2700/9999, Loss: 6.0092\n",
      "Epoch 2800/9999, Loss: 5.9804\n",
      "Epoch 2900/9999, Loss: 5.0352\n",
      "Epoch 3000/9999, Loss: 4.7710\n",
      "Epoch 3100/9999, Loss: 5.1934\n",
      "Epoch 3200/9999, Loss: 5.4381\n",
      "Epoch 3300/9999, Loss: 5.7270\n",
      "Epoch 3400/9999, Loss: 4.3084\n",
      "Epoch 3500/9999, Loss: 5.6552\n",
      "Epoch 3600/9999, Loss: 4.2262\n",
      "Epoch 3700/9999, Loss: 5.1749\n",
      "Epoch 3800/9999, Loss: 5.3696\n",
      "Epoch 3900/9999, Loss: 4.6469\n",
      "Epoch 4000/9999, Loss: 5.3670\n",
      "Epoch 4100/9999, Loss: 5.3367\n",
      "Epoch 4200/9999, Loss: 5.7553\n",
      "Epoch 4300/9999, Loss: 5.9090\n",
      "Epoch 4400/9999, Loss: 4.9988\n",
      "Epoch 4500/9999, Loss: 5.7096\n",
      "Epoch 4600/9999, Loss: 4.7753\n",
      "Epoch 4700/9999, Loss: 4.9001\n",
      "Epoch 4800/9999, Loss: 5.4211\n",
      "Epoch 4900/9999, Loss: 4.8533\n",
      "Epoch 5000/9999, Loss: 5.3372\n",
      "Epoch 5100/9999, Loss: 5.3248\n",
      "Epoch 5200/9999, Loss: 6.1544\n",
      "Epoch 5300/9999, Loss: 4.6608\n",
      "Epoch 5400/9999, Loss: 5.1393\n",
      "Epoch 5500/9999, Loss: 4.6201\n",
      "Epoch 5600/9999, Loss: 5.8402\n",
      "Epoch 5700/9999, Loss: 5.0412\n",
      "Epoch 5800/9999, Loss: 4.4625\n",
      "Epoch 5900/9999, Loss: 5.2008\n",
      "Epoch 6000/9999, Loss: 4.6131\n",
      "Epoch 6100/9999, Loss: 4.3356\n",
      "Epoch 6200/9999, Loss: 4.5754\n",
      "Epoch 6300/9999, Loss: 4.8443\n",
      "Epoch 6400/9999, Loss: 4.9122\n",
      "Epoch 6500/9999, Loss: 5.3601\n",
      "Epoch 6600/9999, Loss: 5.2365\n",
      "Epoch 6700/9999, Loss: 5.1440\n",
      "Epoch 6800/9999, Loss: 5.6566\n",
      "Epoch 6900/9999, Loss: 5.6448\n",
      "Epoch 7000/9999, Loss: 4.9656\n",
      "Epoch 7100/9999, Loss: 5.0488\n",
      "Epoch 7200/9999, Loss: 5.4292\n",
      "Epoch 7300/9999, Loss: 5.7534\n",
      "Epoch 7400/9999, Loss: 4.5950\n",
      "Epoch 7500/9999, Loss: 5.6981\n",
      "Epoch 7600/9999, Loss: 5.2351\n",
      "Epoch 7700/9999, Loss: 5.2360\n",
      "Epoch 7800/9999, Loss: 5.1304\n",
      "Epoch 7900/9999, Loss: 4.9609\n",
      "Epoch 8000/9999, Loss: 4.7067\n",
      "Epoch 8100/9999, Loss: 4.4135\n",
      "Epoch 8200/9999, Loss: 4.9336\n",
      "Epoch 8300/9999, Loss: 4.7339\n",
      "Epoch 8400/9999, Loss: 5.6627\n",
      "Epoch 8500/9999, Loss: 5.9636\n",
      "Epoch 8600/9999, Loss: 5.7380\n",
      "Epoch 8700/9999, Loss: 5.3650\n",
      "Epoch 8800/9999, Loss: 5.6128\n",
      "Epoch 8900/9999, Loss: 4.8421\n",
      "Epoch 9000/9999, Loss: 5.2954\n",
      "Epoch 9100/9999, Loss: 4.5102\n",
      "Epoch 9200/9999, Loss: 4.9951\n",
      "Epoch 9300/9999, Loss: 5.0566\n",
      "Epoch 9400/9999, Loss: 4.3974\n",
      "Epoch 9500/9999, Loss: 5.4117\n",
      "Epoch 9600/9999, Loss: 5.8053\n",
      "Epoch 9700/9999, Loss: 4.4906\n",
      "Epoch 9800/9999, Loss: 5.4478\n",
      "Epoch 9900/9999, Loss: 4.9510\n",
      "Epoch 9999/9999, Loss: 5.3504\n",
      "\n",
      "--- Training Complete ---\n"
     ]
    }
   ],
   "source": [
    "print(f\"\\n--- Starting Training Loop ({num_epochs} epochs) ---\")\n",
    "\n",
    "for k in range(num_epochs):\n",
    "    # --- Forward Pass ---\n",
    "    # 1. One-hot encode the input characters (xs)\n",
    "    #    xenc: (num_examples, vocab_size)\n",
    "    xenc = np.zeros((num_examples, vocab_size))\n",
    "    xenc[np.arange(num_examples), X] = 1.0\n",
    "\n",
    "    # 2. Calculate logits (raw scores)\n",
    "    #    logits = xenc @ W (matrix multiplication)\n",
    "    #    logits: (num_examples, vocab_size)\n",
    "    logits = xenc @ W\n",
    "\n",
    "    # 3. Apply Softmax to convert logits to probabilities\n",
    "    #    counts: (num_examples, vocab_size) - exponentiated logits\n",
    "    counts = np.exp(logits)\n",
    "    #    probs: (num_examples, vocab_size) - probabilities that sum to 1 across each row\n",
    "    probs = counts / counts.sum(axis=1, keepdims=True)\n",
    "\n",
    "    # 4. Calculate Loss (Average Negative Log-Likelihood)\n",
    "    #    Select probabilities assigned to the *correct* next characters (ys)\n",
    "    correct_char_probs = probs[np.arange(num_examples), Y]\n",
    "    #    Calculate log likelihood for these correct probabilities\n",
    "    log_likelihood_per_example = np.log(correct_char_probs)\n",
    "    #    Calculate average negative log-likelihood (loss)\n",
    "    loss = -log_likelihood_per_example.mean()\n",
    "\n",
    "    # Add L2 regularization to the loss\n",
    "    # Penalizes large weights to prevent overfitting\n",
    "    regularization_strength = 0.01\n",
    "    loss += regularization_strength * np.mean(W**2)\n",
    "\n",
    "    # --- Backward Pass (Manual Gradient Calculation) ---\n",
    "    # The gradient of the Softmax Cross-Entropy loss with respect to logits is:\n",
    "    # dL/d(logits) = probs - one_hot_encoded_targets\n",
    "    # First, create one-hot encoded targets for ys\n",
    "    one_hot_ys = np.zeros((num_examples, vocab_size))\n",
    "    one_hot_ys[np.arange(num_examples), Y] = 1.0\n",
    "\n",
    "    # Calculate the gradient of loss w.r.t. logits\n",
    "    dlogits = probs - one_hot_ys # (num_examples, vocab_size)\n",
    "\n",
    "    # Calculate the gradient of loss w.r.t. W\n",
    "    # dL/dW = xenc.T @ dL/d(logits)\n",
    "    # dW: (vocab_size, vocab_size)\n",
    "    dW = xenc.T @ dlogits\n",
    "\n",
    "    # Add gradient for regularization term\n",
    "    dW += 2 * regularization_strength * W # Derivative of (W^2).mean() is 2*W.mean()\n",
    "\n",
    "    # --- Update Weights (Gradient Descent Step) ---\n",
    "    W -= learning_rate * dW # Move W in the direction opposite to the gradient\n",
    "\n",
    "    if k % 100 == 0 or k == num_epochs - 1: # Print loss periodically\n",
    "        print(f\"Epoch {k}/{num_epochs-1}, Loss: {loss:.4f}\")\n",
    "\n",
    "print(\"\\n--- Training Complete ---\")\n"
   ]
  },
  {
   "cell_type": "code",
   "execution_count": 146,
   "id": "cff3e8a3",
   "metadata": {},
   "outputs": [
    {
     "name": "stdout",
     "output_type": "stream",
     "text": [
      "\n",
      "--- Generated Sequences from Trained Model ---\n",
      "cuiles-vis-les-dècouresux\n",
      "mas-les-lalalalay-cay-la-pales-diles-letacoufay\n",
      "res-bouzis-les-les-les-les-bouyrces-vilates-fcc\n",
      "bomala-laméppl-lala bsun\n",
      "balap-les-magnes-les-lay\n"
     ]
    }
   ],
   "source": [
    "\n",
    "# --- Final Sampling from the Trained Neural Network Model ---\n",
    "print(\"\\n--- Generated Sequences from Trained Model ---\")\n",
    "# Use the same random generator for sampling for reproducibility\n",
    "g_sampling = np.random.default_rng(2147483647) # Using the same seed as torch example\n",
    "\n",
    "start_token_idx = token2int['<S>']\n",
    "end_token_idx = token2int['<E>']\n",
    "\n",
    "for i in range(5): # Generate 5 sequences\n",
    "    out = []\n",
    "    ix = start_token_idx # Start with the index of the '<S>' token\n",
    "\n",
    "    while True:\n",
    "        # Perform a forward pass through the (now trained) neural network\n",
    "        # to get the probability distribution for the next character.\n",
    "        # Create a one-hot encoding for the current single input token\n",
    "        xenc_single = np.zeros((1, vocab_size))\n",
    "        xenc_single[0, ix] = 1.0\n",
    "\n",
    "        logits_single = xenc_single @ W\n",
    "        counts_single = np.exp(logits_single)\n",
    "        p_distribution = counts_single / counts_single.sum(axis=1, keepdims=True)\n",
    "\n",
    "        # Sample the next token's index based on the probabilities\n",
    "        next_ix = g_sampling.choice(vocab_size, size=1, p=p_distribution[0]).item()\n",
    "\n",
    "        # If the sampled token is the end token, break the loop\n",
    "        if next_ix == end_token_idx:\n",
    "            break\n",
    "\n",
    "        # Append the actual character/token (using int2token) to our output list\n",
    "        out.append(int2token[next_ix])\n",
    "\n",
    "        # Set the current index to the newly sampled index for the next iteration\n",
    "        ix = next_ix\n",
    "\n",
    "    # Join the generated characters to form a string and print\n",
    "    print(''.join(out))"
   ]
  }
 ],
 "metadata": {
  "kernelspec": {
   "display_name": ".env",
   "language": "python",
   "name": "python3"
  },
  "language_info": {
   "codemirror_mode": {
    "name": "ipython",
    "version": 3
   },
   "file_extension": ".py",
   "mimetype": "text/x-python",
   "name": "python",
   "nbconvert_exporter": "python",
   "pygments_lexer": "ipython3",
   "version": "3.9.23"
  }
 },
 "nbformat": 4,
 "nbformat_minor": 5
}
